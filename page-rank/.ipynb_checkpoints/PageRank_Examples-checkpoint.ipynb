{
 "cells": [
  {
   "cell_type": "markdown",
   "metadata": {},
   "source": [
    "# Page Rank Example"
   ]
  },
  {
   "cell_type": "code",
   "execution_count": 28,
   "metadata": {},
   "outputs": [],
   "source": [
    "import numpy as np"
   ]
  },
  {
   "cell_type": "markdown",
   "metadata": {},
   "source": [
    "Suppose there are 3 users, A, B and C.\n",
    "Suppose A follows c, B follows A, and C follows A, B, then, the transition matrix $M$ is"
   ]
  },
  {
   "cell_type": "code",
   "execution_count": 29,
   "metadata": {},
   "outputs": [],
   "source": [
    "M = np.array([\n",
    "    [0, 0, 1],      # A follows C\n",
    "    [1, 0, 0],      # B follows A\n",
    "    [0.5, 0.5, 0]   # C follows A and B\n",
    "])\n",
    "\n",
    "n = 3  # since there are 3 nodes"
   ]
  },
  {
   "cell_type": "markdown",
   "metadata": {},
   "source": [
    "Set $d=0.85$."
   ]
  },
  {
   "cell_type": "code",
   "execution_count": 30,
   "metadata": {},
   "outputs": [],
   "source": [
    "d = 0.85"
   ]
  },
  {
   "cell_type": "markdown",
   "metadata": {},
   "source": [
    "We initialize the state $r^0$."
   ]
  },
  {
   "cell_type": "code",
   "execution_count": 31,
   "metadata": {},
   "outputs": [],
   "source": [
    "r = np.ones(3) / 3"
   ]
  },
  {
   "cell_type": "markdown",
   "metadata": {},
   "source": [
    "We run the page-rank algoirhtm $r^{(i)} = 0.85M^Tr^{(i-1)} + 0.15r^{(i-1)}$ for 30 iterations, where $r^{(i)}$ is the ranking at iteration $i$. The PageRank algorithm converges after 25 iterations to the stable distribution $r = \\begin{bmatrix} 0.4 & 0.2 & 0.4 \\end{bmatrix}$."
   ]
  },
  {
   "cell_type": "code",
   "execution_count": 32,
   "metadata": {},
   "outputs": [
    {
     "name": "stdout",
     "output_type": "stream",
     "text": [
      "iter=0, r=[0.475      0.19166667 0.33333333]\n",
      "iter=1, r=[0.37583333 0.17041667 0.45375   ]\n",
      "iter=2, r=[0.39407292 0.21840625 0.38752083]\n",
      "iter=3, r=[0.4094526  0.19745729 0.3930901 ]\n",
      "iter=4, r=[0.39631988 0.19668189 0.40699823]\n",
      "iter=5, r=[0.39960183 0.20247653 0.39792163]\n",
      "iter=6, r=[0.40116202 0.19948817 0.3993498 ]\n",
      "iter=7, r=[0.39946292 0.19964689 0.40089019]\n",
      "iter=8, r=[0.39999763 0.20032536 0.39967701]\n",
      "iter=9, r=[0.40013893 0.19991153 0.39994953]\n",
      "iter=10, r=[0.3999242  0.19996528 0.40011052]\n",
      "iter=11, r=[0.40000609 0.20004176 0.39995214]\n",
      "iter=12, r=[0.40001607 0.19998593 0.399998  ]\n",
      "iter=13, r=[0.3999896  0.19999704 0.40001336]\n",
      "iter=14, r=[0.4000016  0.20000524 0.39999316]\n",
      "iter=15, r=[0.40000178 0.19999788 0.40000034]\n",
      "iter=16, r=[0.39999861 0.19999982 0.40000157]\n",
      "iter=17, r=[0.40000031 0.20000064 0.39999905]\n",
      "iter=18, r=[0.40000019 0.19999969 0.40000012]\n",
      "iter=19, r=[0.39999982 0.2        0.40000018]\n",
      "iter=20, r=[0.40000005 0.20000008 0.39999987]\n",
      "iter=21, r=[0.40000002 0.19999996 0.40000003]\n",
      "iter=22, r=[0.39999998 0.2        0.40000002]\n",
      "iter=23, r=[0.40000001 0.20000001 0.39999998]\n",
      "iter=24, r=[0.4        0.19999999 0.4       ]\n",
      "iter=25, r=[0.4 0.2 0.4]\n",
      "iter=26, r=[0.4 0.2 0.4]\n",
      "iter=27, r=[0.4 0.2 0.4]\n",
      "iter=28, r=[0.4 0.2 0.4]\n",
      "iter=29, r=[0.4 0.2 0.4]\n"
     ]
    }
   ],
   "source": [
    "n_iter = 30\n",
    "\n",
    "for i in range(0, n_iter):\n",
    "    r = 0.85 * np.matmul(M.T, r) + 0.15 * r\n",
    "    print('iter=%d, r=%s' % (i, r))"
   ]
  }
 ],
 "metadata": {
  "kernelspec": {
   "display_name": "spylon-kernel",
   "language": "scala",
   "name": "spylon-kernel"
  },
  "language_info": {
   "codemirror_mode": "text/x-scala",
   "file_extension": ".scala",
   "help_links": [
    {
     "text": "MetaKernel Magics",
     "url": "https://metakernel.readthedocs.io/en/latest/source/README.html"
    }
   ],
   "mimetype": "text/x-scala",
   "name": "scala",
   "pygments_lexer": "scala",
   "version": "0.4.1"
  }
 },
 "nbformat": 4,
 "nbformat_minor": 2
}
