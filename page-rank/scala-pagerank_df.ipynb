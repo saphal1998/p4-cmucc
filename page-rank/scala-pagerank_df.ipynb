{
 "cells": [
  {
   "cell_type": "code",
   "execution_count": 1,
   "id": "ce06e679",
   "metadata": {},
   "outputs": [
    {
     "data": {
      "text/plain": [
       "Intitializing Scala interpreter ..."
      ]
     },
     "metadata": {},
     "output_type": "display_data"
    },
    {
     "data": {
      "text/plain": [
       "Spark Web UI available at http://10.0.0.232:4040\n",
       "SparkContext available as 'sc' (version = 3.3.2, master = local[*], app id = local-1679778653942)\n",
       "SparkSession available as 'spark'\n"
      ]
     },
     "metadata": {},
     "output_type": "display_data"
    },
    {
     "data": {
      "text/plain": [
       "import org.apache.spark.sql.types.{StructType, StructField, StringType}\n",
       "import org.apache.spark.sql.functions.col\n",
       "import org.apache.spark.sql._\n",
       "import spark.implicits._\n"
      ]
     },
     "execution_count": 1,
     "metadata": {},
     "output_type": "execute_result"
    }
   ],
   "source": [
    "import org.apache.spark.sql.types.{StructType, StructField, StringType}\n",
    "import org.apache.spark.sql.functions.{col}\n",
    "import org.apache.spark.sql._\n",
    "import spark.implicits._"
   ]
  },
  {
   "cell_type": "code",
   "execution_count": 2,
   "id": "47b59c27",
   "metadata": {
    "scrolled": true
   },
   "outputs": [
    {
     "name": "stdout",
     "output_type": "stream",
     "text": [
      "+--------+--------+\n",
      "|follower|followee|\n",
      "+--------+--------+\n",
      "|       1|       2|\n",
      "|       1|       3|\n",
      "|       2|       3|\n",
      "|       2|       1|\n",
      "+--------+--------+\n",
      "\n"
     ]
    },
    {
     "data": {
      "text/plain": [
       "load_data: ()org.apache.spark.sql.Dataset[org.apache.spark.sql.Row]\n",
       "graphDF: org.apache.spark.sql.Dataset[org.apache.spark.sql.Row] = [follower: string, followee: string]\n"
      ]
     },
     "execution_count": 2,
     "metadata": {},
     "output_type": "execute_result"
    }
   ],
   "source": [
    "def load_data() = {\n",
    "    val graph = Seq(Row(\"1\",\"2\"),Row(\"1\",\"3\"),Row(\"2\",\"3\"),Row(\"2\",\"1\"))\n",
    "    val graphDF = spark.createDataFrame(\n",
    "        sc.parallelize(graph), \n",
    "        StructType(\n",
    "            List(\n",
    "                StructField(\"follower\", StringType), \n",
    "                StructField(\"followee\", StringType)\n",
    "            )\n",
    "        )\n",
    "    ).as(\"social_graph\")\n",
    "    graphDF.cache()\n",
    "    \n",
    "    graphDF\n",
    "}\n",
    "\n",
    "val graphDF = load_data()\n",
    "graphDF.show()"
   ]
  },
  {
   "cell_type": "code",
   "execution_count": 3,
   "id": "ad17a50c",
   "metadata": {},
   "outputs": [
    {
     "name": "stdout",
     "output_type": "stream",
     "text": [
      "+-------+\n",
      "|user_id|\n",
      "+-------+\n",
      "|      2|\n",
      "|      3|\n",
      "|      1|\n",
      "+-------+\n",
      "\n"
     ]
    },
    {
     "data": {
      "text/plain": [
       "get_users: (graphDF: org.apache.spark.sql.DataFrame)org.apache.spark.sql.Dataset[org.apache.spark.sql.Row]\n",
       "users: org.apache.spark.sql.Dataset[org.apache.spark.sql.Row] = [user_id: string]\n",
       "user_count: org.apache.spark.broadcast.Broadcast[Long] = Broadcast(6)\n"
      ]
     },
     "execution_count": 3,
     "metadata": {},
     "output_type": "execute_result"
    }
   ],
   "source": [
    "def get_users(graphDF: DataFrame) = {\n",
    "    graphDF.select(col(\"followee\"))\n",
    "        .union(graphDF.select(col(\"follower\")))\n",
    "        .withColumnRenamed(\"followee\",\"user_id\").distinct.as(\"users\")\n",
    "}\n",
    "\n",
    "\n",
    "val users = get_users(graphDF)\n",
    "val user_count = sc.broadcast(users.count())\n",
    "users.show()"
   ]
  },
  {
   "cell_type": "code",
   "execution_count": 4,
   "id": "0f3c3dc4",
   "metadata": {},
   "outputs": [
    {
     "name": "stdout",
     "output_type": "stream",
     "text": [
      "+-------+------------------+\n",
      "|user_id|        rank_value|\n",
      "+-------+------------------+\n",
      "|      2|0.3333333333333333|\n",
      "|      3|0.3333333333333333|\n",
      "|      1|0.3333333333333333|\n",
      "+-------+------------------+\n",
      "\n"
     ]
    },
    {
     "data": {
      "text/plain": [
       "initialize_ranks: (users: org.apache.spark.sql.DataFrame)org.apache.spark.sql.Dataset[org.apache.spark.sql.Row]\n",
       "rank: org.apache.spark.sql.Dataset[org.apache.spark.sql.Row] = [user_id: string, rank_value: double]\n"
      ]
     },
     "execution_count": 4,
     "metadata": {},
     "output_type": "execute_result"
    }
   ],
   "source": [
    "def initialize_ranks(users: DataFrame) = {\n",
    "    users.select(col(\"user_id\"), lit(1.0/user_count.value).as(\"rank_value\")).as(\"rank\")\n",
    "}\n",
    "\n",
    "val rank = initialize_ranks(users)\n",
    "rank.show()"
   ]
  },
  {
   "cell_type": "code",
   "execution_count": 5,
   "id": "62438262",
   "metadata": {},
   "outputs": [
    {
     "name": "stdout",
     "output_type": "stream",
     "text": [
      "+--------+---------+\n",
      "|followee|followers|\n",
      "+--------+---------+\n",
      "|       2|      [1]|\n",
      "|       3|   [1, 2]|\n",
      "|       1|      [2]|\n",
      "+--------+---------+\n",
      "\n"
     ]
    },
    {
     "data": {
      "text/plain": [
       "get_followers_per_user: (social_graph: org.apache.spark.sql.DataFrame)org.apache.spark.sql.Dataset[org.apache.spark.sql.Row]\n",
       "followers: org.apache.spark.sql.Dataset[org.apache.spark.sql.Row] = [followee: string, followers: array<string>]\n"
      ]
     },
     "execution_count": 5,
     "metadata": {},
     "output_type": "execute_result"
    }
   ],
   "source": [
    "def get_followers_per_user(social_graph: DataFrame) = {\n",
    "    social_graph.groupBy(\"followee\").agg(collect_list(\"follower\").as(\"followers\")).as(\"followers\")\n",
    "}\n",
    "\n",
    "val followers = get_followers_per_user(graphDF)\n",
    "followers.show()"
   ]
  },
  {
   "cell_type": "code",
   "execution_count": 6,
   "id": "e5057a63",
   "metadata": {},
   "outputs": [
    {
     "name": "stdout",
     "output_type": "stream",
     "text": [
      "+--------+---------+\n",
      "|follower|following|\n",
      "+--------+---------+\n",
      "|       1|   [2, 3]|\n",
      "|       2|   [3, 1]|\n",
      "+--------+---------+\n",
      "\n"
     ]
    },
    {
     "data": {
      "text/plain": [
       "get_following_per_user: (social_graph: org.apache.spark.sql.DataFrame)org.apache.spark.sql.Dataset[org.apache.spark.sql.Row]\n",
       "following: org.apache.spark.sql.Dataset[org.apache.spark.sql.Row] = [follower: string, following: array<string>]\n"
      ]
     },
     "execution_count": 6,
     "metadata": {},
     "output_type": "execute_result"
    }
   ],
   "source": [
    "def get_following_per_user(social_graph: DataFrame) = {\n",
    "    social_graph.groupBy(\"follower\").agg(collect_list(\"followee\").as(\"following\")).as(\"following\")\n",
    "}\n",
    "val following = get_following_per_user(graphDF)\n",
    "following.show()"
   ]
  },
  {
   "cell_type": "code",
   "execution_count": 8,
   "id": "350f9de4",
   "metadata": {},
   "outputs": [
    {
     "name": "stdout",
     "output_type": "stream",
     "text": [
      "+-------+------------------+---------+---------+\n",
      "|user_id|        rank_value|followers|following|\n",
      "+-------+------------------+---------+---------+\n",
      "|      2|0.3333333333333333|      [1]|   [3, 1]|\n",
      "|      3|0.3333333333333333|   [1, 2]|     null|\n",
      "|      1|0.3333333333333333|      [2]|   [2, 3]|\n",
      "+-------+------------------+---------+---------+\n",
      "\n"
     ]
    },
    {
     "data": {
      "text/plain": [
       "enhanced_rank: org.apache.spark.sql.Dataset[org.apache.spark.sql.Row] = [user_id: string, rank_value: double ... 2 more fields]\n"
      ]
     },
     "execution_count": 8,
     "metadata": {},
     "output_type": "execute_result"
    }
   ],
   "source": [
    "var enhanced_rank = rank\n",
    "    .join(followers, col(\"followers.followee\") === col(\"rank.user_id\"), \"left\")\n",
    "    .select(col(\"user_id\").as(\"user_id\"), col(\"rank_value\"), col(\"followers\")).as(\"rank_followers\")\n",
    "    .join(following, col(\"following.follower\") === col(\"rank_followers.user_id\"), \"left\")\n",
    "    .select(col(\"user_id\"), col(\"rank_value\"), col(\"followers\"), col(\"following\")).as(\"rank_followers_following\")\n",
    "    .as(\"rank\")\n",
    "enhanced_rank.show()"
   ]
  },
  {
   "cell_type": "code",
   "execution_count": 10,
   "id": "270dc301",
   "metadata": {},
   "outputs": [
    {
     "data": {
      "text/plain": [
       "non_dangling_users: org.apache.spark.sql.Dataset[org.apache.spark.sql.Row] = [user_id: string, rank_value: double ... 2 more fields]\n",
       "dangling_users: org.apache.spark.sql.Dataset[org.apache.spark.sql.Row] = [user_id: string, rank_value: double ... 2 more fields]\n"
      ]
     },
     "execution_count": 10,
     "metadata": {},
     "output_type": "execute_result"
    }
   ],
   "source": [
    "// val non_dangling_users = following_followers_with_rank.filter(col(\"following\").isNotNull)\n",
    "// val dangling_users = following_followers_with_rank.filter(col(\"following\").isNull)"
   ]
  },
  {
   "cell_type": "code",
   "execution_count": 9,
   "id": "1dfe4f9e",
   "metadata": {},
   "outputs": [
    {
     "name": "stdout",
     "output_type": "stream",
     "text": [
      "+-------+------------------+---------+---------+-------------------+\n",
      "|user_id|        rank_value|followers|following|      contributions|\n",
      "+-------+------------------+---------+---------+-------------------+\n",
      "|      2|0.3333333333333333|      [1]|   [3, 1]|0.16666666666666666|\n",
      "|      3|0.3333333333333333|   [1, 2]|     null| 0.3333333333333333|\n",
      "|      1|0.3333333333333333|      [2]|   [2, 3]|0.16666666666666666|\n",
      "+-------+------------------+---------+---------+-------------------+\n",
      "\n"
     ]
    },
    {
     "data": {
      "text/plain": [
       "get_contributions: (rank: org.apache.spark.sql.DataFrame)org.apache.spark.sql.DataFrame\n",
       "contributions: org.apache.spark.sql.DataFrame = [user_id: string, rank_value: double ... 3 more fields]\n"
      ]
     },
     "execution_count": 9,
     "metadata": {},
     "output_type": "execute_result"
    }
   ],
   "source": [
    "def get_contributions(rank: DataFrame) = {\n",
    "    rank.withColumn(\"contributions\", col(\"rank_value\") / when(col(\"following\").isNotNull, size(col(\"following\"))).otherwise(1))\n",
    "}\n",
    "\n",
    "val contributions = get_contributions(enhanced_rank)\n",
    "contributions.show()"
   ]
  },
  {
   "cell_type": "code",
   "execution_count": 10,
   "id": "24331b58",
   "metadata": {},
   "outputs": [
    {
     "name": "stdout",
     "output_type": "stream",
     "text": [
      "+-------------+-------------------+\n",
      "|contribute_to|      contributions|\n",
      "+-------------+-------------------+\n",
      "|            3| 0.3333333333333333|\n",
      "|         null| 0.3333333333333333|\n",
      "|            1|0.16666666666666666|\n",
      "|            2|0.16666666666666666|\n",
      "+-------------+-------------------+\n",
      "\n"
     ]
    },
    {
     "data": {
      "text/plain": [
       "explode_and_sum_contributions: (contributions: org.apache.spark.sql.DataFrame)org.apache.spark.sql.Dataset[org.apache.spark.sql.Row]\n",
       "summed_contributions: org.apache.spark.sql.Dataset[org.apache.spark.sql.Row] = [contribute_to: string, contributions: double]\n",
       "total_dangling_bonus: Double = 0.3333333333333333\n"
      ]
     },
     "execution_count": 10,
     "metadata": {},
     "output_type": "execute_result"
    }
   ],
   "source": [
    "def explode_and_sum_contributions(contributions: DataFrame) = {\n",
    "    val exploded_contribution = contributions.select(col(\"user_id\"),col(\"rank_value\"), col(\"followers\"), explode_outer(col(\"following\")).as(\"contribute_to\"), col(\"contributions\")).as(\"exploded_contributions\")\n",
    "    exploded_contribution.groupBy(\"contribute_to\").agg(sum(\"contributions\").alias(\"contributions\")).as(\"summed_contributions\")\n",
    "}\n",
    "\n",
    "val summed_contributions = explode_and_sum_contributions(contributions)\n",
    "val total_dangling_bonus = summed_contributions.select(\"contributions\").where(col(\"contribute_to\").isNull).first.getDouble(0)\n",
    "summed_contributions.show()"
   ]
  },
  {
   "cell_type": "code",
   "execution_count": 11,
   "id": "9a37c5d0",
   "metadata": {},
   "outputs": [
    {
     "name": "stdout",
     "output_type": "stream",
     "text": [
      "+-------+---------+---------+-------------------+\n",
      "|user_id|followers|following|         rank_value|\n",
      "+-------+---------+---------+-------------------+\n",
      "|      2|      [1]|   [3, 1]| 0.2861111111111111|\n",
      "|      3|   [1, 2]|     null|0.42777777777777776|\n",
      "|      1|      [2]|   [2, 3]| 0.2861111111111111|\n",
      "+-------+---------+---------+-------------------+\n",
      "\n"
     ]
    },
    {
     "data": {
      "text/plain": [
       "calculate_rank: (contributions: org.apache.spark.sql.DataFrame, total_dangling_bonus: Double)org.apache.spark.sql.DataFrame\n",
       "new_ranks: org.apache.spark.sql.DataFrame = [user_id: string, followers: array<string> ... 2 more fields]\n"
      ]
     },
     "execution_count": 11,
     "metadata": {},
     "output_type": "execute_result"
    }
   ],
   "source": [
    "def calculate_rank(contributions: DataFrame, total_dangling_bonus: Double) = {\n",
    "    val new_ranks_without_dangling = contributions\n",
    "        .drop(\"contributions\").join(summed_contributions, col(\"contribute_to\") === col(\"user_id\"), \"left\")\n",
    "        .drop(\"contribute_to\", \"rank_value\")\n",
    "        .withColumnRenamed(\"contributions\", \"rank_value\")\n",
    "    new_ranks_without_dangling\n",
    "        .withColumn(\"rank_value\", col(\"rank_value\") + (total_dangling_bonus/user_count.value))\n",
    "        .withColumn(\"rank_value\", (col(\"rank_value\") * 0.85) + (0.15 / user_count.value))\n",
    "}\n",
    "val new_ranks = calculate_rank(contributions, total_dangling_bonus)\n",
    "new_ranks.show()"
   ]
  },
  {
   "cell_type": "code",
   "execution_count": 12,
   "id": "6af6dab3",
   "metadata": {},
   "outputs": [
    {
     "name": "stdout",
     "output_type": "stream",
     "text": [
      "+-------+---------+---------+-------------------+\n",
      "|user_id|followers|following|         rank_value|\n",
      "+-------+---------+---------+-------------------+\n",
      "|      2|      [1]|   [3, 1]| 0.2861111111111111|\n",
      "|      3|   [1, 2]|     null|0.42777777777777776|\n",
      "|      1|      [2]|   [2, 3]| 0.2861111111111111|\n",
      "+-------+---------+---------+-------------------+\n",
      "\n",
      "()+-------+---------+---------+-------------------+\n",
      "|user_id|followers|following|         rank_value|\n",
      "+-------+---------+---------+-------------------+\n",
      "|      2|      [1]|   [3, 1]|0.31287037037037035|\n",
      "|      3|   [1, 2]|     null|0.45453703703703696|\n",
      "|      1|      [2]|   [2, 3]|0.31287037037037035|\n",
      "+-------+---------+---------+-------------------+\n",
      "\n",
      "()+-------+---------+---------+-------------------+\n",
      "|user_id|followers|following|         rank_value|\n",
      "+-------+---------+---------+-------------------+\n",
      "|      2|      [1]|   [3, 1]|0.32045216049382713|\n",
      "|      3|   [1, 2]|     null| 0.4621188271604938|\n",
      "|      1|      [2]|   [2, 3]|0.32045216049382713|\n",
      "+-------+---------+---------+-------------------+\n",
      "\n",
      "()+-------+---------+---------+-------------------+\n",
      "|user_id|followers|following|         rank_value|\n",
      "+-------+---------+---------+-------------------+\n",
      "|      2|      [1]|   [3, 1]|0.32260033436213986|\n",
      "|      3|   [1, 2]|     null| 0.4642670010288066|\n",
      "|      1|      [2]|   [2, 3]|0.32260033436213986|\n",
      "+-------+---------+---------+-------------------+\n",
      "\n",
      "()+-------+---------+---------+-------------------+\n",
      "|user_id|followers|following|         rank_value|\n",
      "+-------+---------+---------+-------------------+\n",
      "|      2|      [1]|   [3, 1]|0.32320898362482847|\n",
      "|      3|   [1, 2]|     null|0.46487565029149513|\n",
      "|      1|      [2]|   [2, 3]|0.32320898362482847|\n",
      "+-------+---------+---------+-------------------+\n",
      "\n",
      "()+-------+---------+---------+------------------+\n",
      "|user_id|followers|following|        rank_value|\n",
      "+-------+---------+---------+------------------+\n",
      "|      2|      [1]|   [3, 1]|0.3233814342492569|\n",
      "|      3|   [1, 2]|     null|0.4650481009159236|\n",
      "|      1|      [2]|   [2, 3]|0.3233814342492569|\n",
      "+-------+---------+---------+------------------+\n",
      "\n",
      "()+-------+---------+---------+-------------------+\n",
      "|user_id|followers|following|         rank_value|\n",
      "+-------+---------+---------+-------------------+\n",
      "|      2|      [1]|   [3, 1]|0.32343029525951167|\n",
      "|      3|   [1, 2]|     null|0.46509696192617833|\n",
      "|      1|      [2]|   [2, 3]|0.32343029525951167|\n",
      "+-------+---------+---------+-------------------+\n",
      "\n",
      "()+-------+---------+---------+-------------------+\n",
      "|user_id|followers|following|         rank_value|\n",
      "+-------+---------+---------+-------------------+\n",
      "|      2|      [1]|   [3, 1]|0.32344413921241716|\n",
      "|      3|   [1, 2]|     null| 0.4651108058790838|\n",
      "|      1|      [2]|   [2, 3]|0.32344413921241716|\n",
      "+-------+---------+---------+-------------------+\n",
      "\n",
      "()+-------+---------+---------+------------------+\n",
      "|user_id|followers|following|        rank_value|\n",
      "+-------+---------+---------+------------------+\n",
      "|      2|      [1]|   [3, 1]|0.3234480616657404|\n",
      "|      3|   [1, 2]|     null| 0.465114728332407|\n",
      "|      1|      [2]|   [2, 3]|0.3234480616657404|\n",
      "+-------+---------+---------+------------------+\n",
      "\n",
      "()+-------+---------+---------+------------------+\n",
      "|user_id|followers|following|        rank_value|\n",
      "+-------+---------+---------+------------------+\n",
      "|      2|      [1]|   [3, 1]|0.3234491730275153|\n",
      "|      3|   [1, 2]|     null|0.4651158396941819|\n",
      "|      1|      [2]|   [2, 3]|0.3234491730275153|\n",
      "+-------+---------+---------+------------------+\n",
      "\n",
      "()"
     ]
    },
    {
     "data": {
      "text/plain": [
       "number_of_iterations: Int = 0\n"
      ]
     },
     "execution_count": 12,
     "metadata": {},
     "output_type": "execute_result"
    }
   ],
   "source": [
    "var number_of_iterations = 10\n",
    "\n",
    "while(number_of_iterations > 0) {\n",
    "    val contributions = get_contributions(enhanced_rank)\n",
    "    val summed_contributions = explode_and_sum_contributions(contributions)\n",
    "    val total_dangling_bonus = summed_contributions.select(\"contributions\").where(col(\"contribute_to\").isNull).first.getDouble(0)\n",
    "    \n",
    "    val new_ranks = calculate_rank(contributions, total_dangling_bonus)\n",
    "    enhanced_rank = new_ranks\n",
    "    \n",
    "    print(enhanced_rank.show())\n",
    "    number_of_iterations -= 1\n",
    "}"
   ]
  },
  {
   "cell_type": "code",
   "execution_count": 13,
   "id": "befacd67",
   "metadata": {},
   "outputs": [
    {
     "name": "stdout",
     "output_type": "stream",
     "text": [
      "+-------+---------+---------+------------------+\n",
      "|user_id|followers|following|        rank_value|\n",
      "+-------+---------+---------+------------------+\n",
      "|      2|      [1]|   [3, 1]|0.3234491730275153|\n",
      "|      3|   [1, 2]|     null|0.4651158396941819|\n",
      "|      1|      [2]|   [2, 3]|0.3234491730275153|\n",
      "+-------+---------+---------+------------------+\n",
      "\n"
     ]
    }
   ],
   "source": [
    "enhanced_rank.show()"
   ]
  }
 ],
 "metadata": {
  "kernelspec": {
   "display_name": "spylon-kernel",
   "language": "scala",
   "name": "spylon-kernel"
  },
  "language_info": {
   "codemirror_mode": "text/x-scala",
   "file_extension": ".scala",
   "help_links": [
    {
     "text": "MetaKernel Magics",
     "url": "https://metakernel.readthedocs.io/en/latest/source/README.html"
    }
   ],
   "mimetype": "text/x-scala",
   "name": "scala",
   "pygments_lexer": "scala",
   "version": "0.4.1"
  }
 },
 "nbformat": 4,
 "nbformat_minor": 5
}
